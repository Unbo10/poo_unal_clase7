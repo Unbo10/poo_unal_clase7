{
 "cells": [
  {
   "cell_type": "code",
   "execution_count": 1,
   "metadata": {},
   "outputs": [],
   "source": [
    "class Person:\n",
    "    specie: str = \"Homo Sapiens\"\n",
    "    def __init__(self, name):\n",
    "        self.name = name\n",
    "    \n",
    "    def speak(self):\n",
    "        print(\"Hi!\")\n",
    "\n",
    "class Student(Person):\n",
    "    def __init__(self, name, student_id):\n",
    "        self.name = name\n",
    "        self.student_id = student_id\n",
    "    \n",
    "    def study(self):\n",
    "        print(\"Stu-dying :v\")"
   ]
  },
  {
   "cell_type": "code",
   "execution_count": 8,
   "metadata": {},
   "outputs": [
    {
     "name": "stdout",
     "output_type": "stream",
     "text": [
      "Felix\n",
      "Hi!\n",
      "Homo Sapiens John\n",
      "Hi!\n"
     ]
    }
   ],
   "source": [
    "person = Person(name=\"Felix\")\n",
    "student = Student(name=\"John\", student_id=\"123\")\n",
    "\n",
    "print(person.name)\n",
    "person.speak()\n",
    "\n",
    "print(student.specie, student.name)\n",
    "student.speak()"
   ]
  },
  {
   "cell_type": "code",
   "execution_count": 9,
   "metadata": {},
   "outputs": [],
   "source": [
    "class Person:\n",
    "    specie: str = \"Homo Sapiens\"\n",
    "    def __init__(self, name):\n",
    "        self.name = name\n",
    "    \n",
    "    def speak(self):\n",
    "        print(\"Hi!\")\n",
    "\n",
    "class Student(Person):\n",
    "    def __init__(self, name, student_id):\n",
    "        # Se llama la clase base y se instancia\n",
    "        super().__init__(name)\n",
    "        # y luego se agregan mas atributos\n",
    "        self.student_id = student_id\n",
    "    \n",
    "    def study(self):\n",
    "        print(\"Stu-dying :v\")"
   ]
  },
  {
   "cell_type": "code",
   "execution_count": 10,
   "metadata": {},
   "outputs": [
    {
     "name": "stdout",
     "output_type": "stream",
     "text": [
      "Homo Sapiens John\n",
      "Hi!\n",
      "Stu-dying :v\n"
     ]
    }
   ],
   "source": [
    "student = Student(name=\"John\", student_id=\"123\")\n",
    "\n",
    "print(student.specie, student.name)\n",
    "student.speak()\n",
    "student.study()"
   ]
  }
 ],
 "metadata": {
  "kernelspec": {
   "display_name": "Python 3",
   "language": "python",
   "name": "python3"
  },
  "language_info": {
   "codemirror_mode": {
    "name": "ipython",
    "version": 3
   },
   "file_extension": ".py",
   "mimetype": "text/x-python",
   "name": "python",
   "nbconvert_exporter": "python",
   "pygments_lexer": "ipython3",
   "version": "3.8.10"
  }
 },
 "nbformat": 4,
 "nbformat_minor": 2
}
